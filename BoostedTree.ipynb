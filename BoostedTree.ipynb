{
 "cells": [
  {
   "cell_type": "code",
   "execution_count": 1,
   "id": "a0b37711-5ba3-4c8e-9f13-a173aa45f8d5",
   "metadata": {},
   "outputs": [],
   "source": [
    "import numpy as np\n",
    "import pandas as pd\n",
    "\n",
    "# Reading Data File\n",
    "titanic_data_file_path = 'train.csv'\n",
    "titanic_data = pd.read_csv(titanic_data_file_path)\n",
    "#titanic_data.columns"
   ]
  },
  {
   "cell_type": "code",
   "execution_count": 2,
   "id": "b6f6a66e-58a3-42a6-ab98-de53ab079574",
   "metadata": {},
   "outputs": [],
   "source": [
    "# Replace female with 0, male with 1\n",
    "titanic_data['Sex'].replace(['female', 'male'],[0,1], inplace=True)\n",
    "# Replace NaN Age with mean age\n",
    "mean_age = np.nanmean(titanic_data.Age)\n",
    "titanic_data['Age'].replace(['NaN'], [mean_age], inplace=True)\n",
    "# Set target \n",
    "y = titanic_data.Survived\n",
    "# Set features\n",
    "# Removed 'Sex', 'Cabin' columns, couldn't convert string to float\n",
    "# Pclass = passenger class, SibSp = Number of Siblings/Spouses Aboard, Parch = Number of Parents/Children Aboard\n",
    "feature_names = ['Pclass', 'Age', 'Fare', 'SibSp', 'Parch', 'Sex']\n",
    "X = titanic_data[feature_names]"
   ]
  },
  {
   "cell_type": "code",
   "execution_count": 3,
   "id": "120c41d9-ce4e-4423-8346-85b3b2ade309",
   "metadata": {},
   "outputs": [],
   "source": [
    "# Split data\n",
    "from sklearn.model_selection import train_test_split\n",
    "train_X, val_X, train_y, val_y = train_test_split(X, y)"
   ]
  },
  {
   "cell_type": "code",
   "execution_count": 4,
   "id": "f99cbff7-7809-4f63-8a22-b8a1b5ac253e",
   "metadata": {},
   "outputs": [
    {
     "name": "stdout",
     "output_type": "stream",
     "text": [
      "0.8340807174887892\n"
     ]
    }
   ],
   "source": [
    "# Fit and validate model\n",
    "from sklearn.ensemble import HistGradientBoostingClassifier\n",
    "from sklearn.metrics import accuracy_score\n",
    "\n",
    "boost_model = HistGradientBoostingClassifier()\n",
    "boost_model.fit(train_X, train_y)\n",
    "titanic_preds = boost_model.predict(val_X)\n",
    "print(accuracy_score(val_y, titanic_preds))"
   ]
  },
  {
   "cell_type": "code",
   "execution_count": 5,
   "id": "125f4552-8412-4937-92cb-80ba9555f27a",
   "metadata": {},
   "outputs": [],
   "source": [
    "# to do: Seaborn stacked bar plot (two categoricals), Initial diagnostics, cross validation"
   ]
  }
 ],
 "metadata": {
  "kernelspec": {
   "display_name": "d2l:Python",
   "language": "python",
   "name": "conda-env-d2l-py"
  },
  "language_info": {
   "codemirror_mode": {
    "name": "ipython",
    "version": 3
   },
   "file_extension": ".py",
   "mimetype": "text/x-python",
   "name": "python",
   "nbconvert_exporter": "python",
   "pygments_lexer": "ipython3",
   "version": "3.9.13"
  }
 },
 "nbformat": 4,
 "nbformat_minor": 5
}
